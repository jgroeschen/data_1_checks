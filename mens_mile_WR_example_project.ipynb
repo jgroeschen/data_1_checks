{
  "cells": [
    {
      "cell_type": "markdown",
      "metadata": {
        "id": "OnwbaobgJQCa"
      },
      "source": [
        "# Men's World Record Mile Times"
      ]
    },
    {
      "cell_type": "markdown",
      "metadata": {
        "id": "WJNd17mxJQCk"
      },
      "source": [
        "![a runner](https://www.nnrunningteam.com/files/images/485-458-1083-slide.jpg?1570881944)"
      ]
    },
    {
      "cell_type": "markdown",
      "metadata": {
        "id": "9qiSlfj0lW87"
      },
      "source": [
        "## Goals for this example project:\n",
        "\n",
        "1. Use documentation for some small challenges.\n",
        "\n",
        "2. Practice data cleaning.\n",
        "\n",
        "3. Practice aggregation. \n",
        "\n",
        "4. Practice simple visualization.\n",
        "\n",
        "[source - wikipedia](https://en.wikipedia.org/wiki/Mile_run_world_record_progression#:~:text=World%20Athletics%20is%20the%20official,the%20IAAF%20for%20record%20purposes)"
      ]
    },
    {
      "cell_type": "code",
      "execution_count": 2,
      "metadata": {
        "id": "OYkwKM4AmM0O"
      },
      "outputs": [],
      "source": [
        "import datetime as dt\n",
        "import matplotlib.pyplot as plt\n",
        "import pandas as pd\n",
        "import requests\n",
        "from io import StringIO"
      ]
    },
    {
      "cell_type": "code",
      "execution_count": 3,
      "metadata": {
        "colab": {
          "base_uri": "https://localhost:8080/",
          "height": 206
        },
        "id": "nHWVw6FPrxuD",
        "outputId": "1d60634e-ba1b-458c-a899-c1f2aa8c5db8",
        "scrolled": true
      },
      "outputs": [
        {
          "data": {
            "text/html": [
              "<div>\n",
              "<style scoped>\n",
              "    .dataframe tbody tr th:only-of-type {\n",
              "        vertical-align: middle;\n",
              "    }\n",
              "\n",
              "    .dataframe tbody tr th {\n",
              "        vertical-align: top;\n",
              "    }\n",
              "\n",
              "    .dataframe thead th {\n",
              "        text-align: right;\n",
              "    }\n",
              "</style>\n",
              "<table border=\"1\" class=\"dataframe\">\n",
              "  <thead>\n",
              "    <tr style=\"text-align: right;\">\n",
              "      <th></th>\n",
              "      <th>Time</th>\n",
              "      <th>Auto</th>\n",
              "      <th>Athlete</th>\n",
              "      <th>Nationality</th>\n",
              "      <th>Date</th>\n",
              "      <th>Venue</th>\n",
              "    </tr>\n",
              "  </thead>\n",
              "  <tbody>\n",
              "    <tr>\n",
              "      <th>0</th>\n",
              "      <td>*4:14.4*</td>\n",
              "      <td>NaN</td>\n",
              "      <td>John Paul Jones</td>\n",
              "      <td>United States</td>\n",
              "      <td>31 May 1913[5]</td>\n",
              "      <td>Allston, Mass.</td>\n",
              "    </tr>\n",
              "    <tr>\n",
              "      <th>1</th>\n",
              "      <td>*4:12.6*</td>\n",
              "      <td>NaN</td>\n",
              "      <td>Norman Taber</td>\n",
              "      <td>United States</td>\n",
              "      <td>16 July 1915[5]</td>\n",
              "      <td>Allston, Mass.</td>\n",
              "    </tr>\n",
              "    <tr>\n",
              "      <th>2</th>\n",
              "      <td>*4:10.4*</td>\n",
              "      <td>NaN</td>\n",
              "      <td>Paavo Nurmi</td>\n",
              "      <td>Finland</td>\n",
              "      <td>23 August 1923[5]</td>\n",
              "      <td>Stockholm</td>\n",
              "    </tr>\n",
              "    <tr>\n",
              "      <th>3</th>\n",
              "      <td>*4:09.2*</td>\n",
              "      <td>NaN</td>\n",
              "      <td>Jules Ladoumègue</td>\n",
              "      <td>France</td>\n",
              "      <td>4 October 1931[5]</td>\n",
              "      <td>Paris</td>\n",
              "    </tr>\n",
              "    <tr>\n",
              "      <th>4</th>\n",
              "      <td>*4:07.6*</td>\n",
              "      <td>NaN</td>\n",
              "      <td>Jack Lovelock</td>\n",
              "      <td>New Zealand</td>\n",
              "      <td>15 July 1933[5]</td>\n",
              "      <td>Princeton, N.J.</td>\n",
              "    </tr>\n",
              "  </tbody>\n",
              "</table>\n",
              "</div>"
            ],
            "text/plain": [
              "       Time Auto           Athlete    Nationality               Date  \\\n",
              "0  *4:14.4*  NaN   John Paul Jones  United States     31 May 1913[5]   \n",
              "1  *4:12.6*  NaN      Norman Taber  United States    16 July 1915[5]   \n",
              "2  *4:10.4*  NaN       Paavo Nurmi        Finland  23 August 1923[5]   \n",
              "3  *4:09.2*  NaN  Jules Ladoumègue         France  4 October 1931[5]   \n",
              "4  *4:07.6*  NaN     Jack Lovelock    New Zealand    15 July 1933[5]   \n",
              "\n",
              "             Venue  \n",
              "0   Allston, Mass.  \n",
              "1   Allston, Mass.  \n",
              "2        Stockholm  \n",
              "3            Paris  \n",
              "4  Princeton, N.J.  "
            ]
          },
          "execution_count": 3,
          "metadata": {},
          "output_type": "execute_result"
        }
      ],
      "source": [
        "data = pd.read_csv(\"https://raw.githubusercontent.com/josephplpriest/mens_WR_mile_run/master/mens_WR_mile_times.csv\")\n",
        "\n",
        "data.head()"
      ]
    },
    {
      "cell_type": "markdown",
      "metadata": {},
      "source": [
        "# Easy:"
      ]
    },
    {
      "cell_type": "code",
      "execution_count": 5,
      "metadata": {},
      "outputs": [
        {
          "data": {
            "text/html": [
              "<div>\n",
              "<style scoped>\n",
              "    .dataframe tbody tr th:only-of-type {\n",
              "        vertical-align: middle;\n",
              "    }\n",
              "\n",
              "    .dataframe tbody tr th {\n",
              "        vertical-align: top;\n",
              "    }\n",
              "\n",
              "    .dataframe thead th {\n",
              "        text-align: right;\n",
              "    }\n",
              "</style>\n",
              "<table border=\"1\" class=\"dataframe\">\n",
              "  <thead>\n",
              "    <tr style=\"text-align: right;\">\n",
              "      <th></th>\n",
              "      <th>Time</th>\n",
              "      <th>Auto</th>\n",
              "      <th>Athlete</th>\n",
              "      <th>Nationality</th>\n",
              "      <th>Date</th>\n",
              "      <th>Venue</th>\n",
              "    </tr>\n",
              "  </thead>\n",
              "  <tbody>\n",
              "    <tr>\n",
              "      <th>0</th>\n",
              "      <td>4:14.4</td>\n",
              "      <td>NaN</td>\n",
              "      <td>John Paul Jones</td>\n",
              "      <td>United States</td>\n",
              "      <td>31 May 1913[5]</td>\n",
              "      <td>Allston, Mass.</td>\n",
              "    </tr>\n",
              "    <tr>\n",
              "      <th>1</th>\n",
              "      <td>4:12.6</td>\n",
              "      <td>NaN</td>\n",
              "      <td>Norman Taber</td>\n",
              "      <td>United States</td>\n",
              "      <td>16 July 1915[5]</td>\n",
              "      <td>Allston, Mass.</td>\n",
              "    </tr>\n",
              "    <tr>\n",
              "      <th>2</th>\n",
              "      <td>4:10.4</td>\n",
              "      <td>NaN</td>\n",
              "      <td>Paavo Nurmi</td>\n",
              "      <td>Finland</td>\n",
              "      <td>23 August 1923[5]</td>\n",
              "      <td>Stockholm</td>\n",
              "    </tr>\n",
              "    <tr>\n",
              "      <th>3</th>\n",
              "      <td>4:09.2</td>\n",
              "      <td>NaN</td>\n",
              "      <td>Jules Ladoumègue</td>\n",
              "      <td>France</td>\n",
              "      <td>4 October 1931[5]</td>\n",
              "      <td>Paris</td>\n",
              "    </tr>\n",
              "    <tr>\n",
              "      <th>4</th>\n",
              "      <td>4:07.6</td>\n",
              "      <td>NaN</td>\n",
              "      <td>Jack Lovelock</td>\n",
              "      <td>New Zealand</td>\n",
              "      <td>15 July 1933[5]</td>\n",
              "      <td>Princeton, N.J.</td>\n",
              "    </tr>\n",
              "  </tbody>\n",
              "</table>\n",
              "</div>"
            ],
            "text/plain": [
              "     Time Auto           Athlete    Nationality               Date  \\\n",
              "0  4:14.4  NaN   John Paul Jones  United States     31 May 1913[5]   \n",
              "1  4:12.6  NaN      Norman Taber  United States    16 July 1915[5]   \n",
              "2  4:10.4  NaN       Paavo Nurmi        Finland  23 August 1923[5]   \n",
              "3  4:09.2  NaN  Jules Ladoumègue         France  4 October 1931[5]   \n",
              "4  4:07.6  NaN     Jack Lovelock    New Zealand    15 July 1933[5]   \n",
              "\n",
              "             Venue  \n",
              "0   Allston, Mass.  \n",
              "1   Allston, Mass.  \n",
              "2        Stockholm  \n",
              "3            Paris  \n",
              "4  Princeton, N.J.  "
            ]
          },
          "execution_count": 5,
          "metadata": {},
          "output_type": "execute_result"
        }
      ],
      "source": [
        "data['Time'] = data['Time'].str.replace(\"*\", \"\", regex=False) # Clean the asterisks from the time column\n",
        "data.head()"
      ]
    },
    {
      "cell_type": "code",
      "execution_count": 6,
      "metadata": {},
      "outputs": [
        {
          "data": {
            "text/html": [
              "<div>\n",
              "<style scoped>\n",
              "    .dataframe tbody tr th:only-of-type {\n",
              "        vertical-align: middle;\n",
              "    }\n",
              "\n",
              "    .dataframe tbody tr th {\n",
              "        vertical-align: top;\n",
              "    }\n",
              "\n",
              "    .dataframe thead th {\n",
              "        text-align: right;\n",
              "    }\n",
              "</style>\n",
              "<table border=\"1\" class=\"dataframe\">\n",
              "  <thead>\n",
              "    <tr style=\"text-align: right;\">\n",
              "      <th></th>\n",
              "      <th>Time</th>\n",
              "      <th>Athlete</th>\n",
              "      <th>Nationality</th>\n",
              "      <th>Date</th>\n",
              "      <th>Venue</th>\n",
              "    </tr>\n",
              "  </thead>\n",
              "  <tbody>\n",
              "    <tr>\n",
              "      <th>0</th>\n",
              "      <td>4:14.4</td>\n",
              "      <td>John Paul Jones</td>\n",
              "      <td>United States</td>\n",
              "      <td>31 May 1913[5]</td>\n",
              "      <td>Allston, Mass.</td>\n",
              "    </tr>\n",
              "    <tr>\n",
              "      <th>1</th>\n",
              "      <td>4:12.6</td>\n",
              "      <td>Norman Taber</td>\n",
              "      <td>United States</td>\n",
              "      <td>16 July 1915[5]</td>\n",
              "      <td>Allston, Mass.</td>\n",
              "    </tr>\n",
              "    <tr>\n",
              "      <th>2</th>\n",
              "      <td>4:10.4</td>\n",
              "      <td>Paavo Nurmi</td>\n",
              "      <td>Finland</td>\n",
              "      <td>23 August 1923[5]</td>\n",
              "      <td>Stockholm</td>\n",
              "    </tr>\n",
              "    <tr>\n",
              "      <th>3</th>\n",
              "      <td>4:09.2</td>\n",
              "      <td>Jules Ladoumègue</td>\n",
              "      <td>France</td>\n",
              "      <td>4 October 1931[5]</td>\n",
              "      <td>Paris</td>\n",
              "    </tr>\n",
              "    <tr>\n",
              "      <th>4</th>\n",
              "      <td>4:07.6</td>\n",
              "      <td>Jack Lovelock</td>\n",
              "      <td>New Zealand</td>\n",
              "      <td>15 July 1933[5]</td>\n",
              "      <td>Princeton, N.J.</td>\n",
              "    </tr>\n",
              "  </tbody>\n",
              "</table>\n",
              "</div>"
            ],
            "text/plain": [
              "     Time           Athlete    Nationality               Date            Venue\n",
              "0  4:14.4   John Paul Jones  United States     31 May 1913[5]   Allston, Mass.\n",
              "1  4:12.6      Norman Taber  United States    16 July 1915[5]   Allston, Mass.\n",
              "2  4:10.4       Paavo Nurmi        Finland  23 August 1923[5]        Stockholm\n",
              "3  4:09.2  Jules Ladoumègue         France  4 October 1931[5]            Paris\n",
              "4  4:07.6     Jack Lovelock    New Zealand    15 July 1933[5]  Princeton, N.J."
            ]
          },
          "execution_count": 6,
          "metadata": {},
          "output_type": "execute_result"
        }
      ],
      "source": [
        "data = data.drop('Auto', axis=1,) # Remove meaningless columns\n",
        "data.head()"
      ]
    },
    {
      "cell_type": "code",
      "execution_count": 7,
      "metadata": {},
      "outputs": [
        {
          "data": {
            "text/html": [
              "<div>\n",
              "<style scoped>\n",
              "    .dataframe tbody tr th:only-of-type {\n",
              "        vertical-align: middle;\n",
              "    }\n",
              "\n",
              "    .dataframe tbody tr th {\n",
              "        vertical-align: top;\n",
              "    }\n",
              "\n",
              "    .dataframe thead th {\n",
              "        text-align: right;\n",
              "    }\n",
              "</style>\n",
              "<table border=\"1\" class=\"dataframe\">\n",
              "  <thead>\n",
              "    <tr style=\"text-align: right;\">\n",
              "      <th></th>\n",
              "      <th>Time</th>\n",
              "      <th>Athlete</th>\n",
              "      <th>Nationality</th>\n",
              "      <th>Date</th>\n",
              "      <th>Venue</th>\n",
              "    </tr>\n",
              "  </thead>\n",
              "  <tbody>\n",
              "    <tr>\n",
              "      <th>0</th>\n",
              "      <td>4:14.4</td>\n",
              "      <td>John Paul Jones</td>\n",
              "      <td>United States</td>\n",
              "      <td>31 May 1913[5]</td>\n",
              "      <td>Allston, Mass.</td>\n",
              "    </tr>\n",
              "    <tr>\n",
              "      <th>1</th>\n",
              "      <td>4:12.6</td>\n",
              "      <td>Norman Taber</td>\n",
              "      <td>United States</td>\n",
              "      <td>16 July 1915[5]</td>\n",
              "      <td>Allston, Mass.</td>\n",
              "    </tr>\n",
              "    <tr>\n",
              "      <th>2</th>\n",
              "      <td>4:10.4</td>\n",
              "      <td>Paavo Nurmi</td>\n",
              "      <td>Finland</td>\n",
              "      <td>23 August 1923[5]</td>\n",
              "      <td>Stockholm</td>\n",
              "    </tr>\n",
              "    <tr>\n",
              "      <th>3</th>\n",
              "      <td>4:09.2</td>\n",
              "      <td>Jules Ladoumègue</td>\n",
              "      <td>France</td>\n",
              "      <td>4 October 1931[5]</td>\n",
              "      <td>Paris</td>\n",
              "    </tr>\n",
              "    <tr>\n",
              "      <th>4</th>\n",
              "      <td>4:07.6</td>\n",
              "      <td>Jack Lovelock</td>\n",
              "      <td>New Zealand</td>\n",
              "      <td>15 July 1933[5]</td>\n",
              "      <td>Princeton, N.J.</td>\n",
              "    </tr>\n",
              "  </tbody>\n",
              "</table>\n",
              "</div>"
            ],
            "text/plain": [
              "     Time           Athlete    Nationality               Date            Venue\n",
              "0  4:14.4   John Paul Jones  United States     31 May 1913[5]   Allston, Mass.\n",
              "1  4:12.6      Norman Taber  United States    16 July 1915[5]   Allston, Mass.\n",
              "2  4:10.4       Paavo Nurmi        Finland  23 August 1923[5]        Stockholm\n",
              "3  4:09.2  Jules Ladoumègue         France  4 October 1931[5]            Paris\n",
              "4  4:07.6     Jack Lovelock    New Zealand    15 July 1933[5]  Princeton, N.J."
            ]
          },
          "execution_count": 7,
          "metadata": {},
          "output_type": "execute_result"
        }
      ],
      "source": [
        "data['Date'] = data['Date'].str.replace(\"\\[5\\]\", \"\", regex=False) # Clean the date column of \"[5]\"\n",
        "data.head()"
      ]
    },
    {
      "cell_type": "markdown",
      "metadata": {},
      "source": [
        "# Medium:"
      ]
    },
    {
      "cell_type": "code",
      "execution_count": 10,
      "metadata": {},
      "outputs": [
        {
          "data": {
            "text/plain": [
              "23"
            ]
          },
          "execution_count": 10,
          "metadata": {},
          "output_type": "execute_result"
        }
      ],
      "source": [
        "unique_athletes = data['Athlete'].unique() # How many *unique* WR holders have there been?\n",
        "unique_athletes.size"
      ]
    },
    {
      "cell_type": "code",
      "execution_count": 11,
      "metadata": {},
      "outputs": [
        {
          "data": {
            "text/plain": [
              "Sebastian Coe     3\n",
              "Arne Andersson    3\n",
              "Gunder Hägg       3\n",
              "Peter Snell       2\n",
              "Name: Athlete, dtype: int64"
            ]
          },
          "execution_count": 11,
          "metadata": {},
          "output_type": "execute_result"
        }
      ],
      "source": [
        "most_wins = data['Athlete'].value_counts().sort_values(ascending=False).head(4) # Who holds the most records?\n",
        "most_wins"
      ]
    },
    {
      "cell_type": "code",
      "execution_count": 12,
      "metadata": {},
      "outputs": [
        {
          "data": {
            "text/html": [
              "<div>\n",
              "<style scoped>\n",
              "    .dataframe tbody tr th:only-of-type {\n",
              "        vertical-align: middle;\n",
              "    }\n",
              "\n",
              "    .dataframe tbody tr th {\n",
              "        vertical-align: top;\n",
              "    }\n",
              "\n",
              "    .dataframe thead th {\n",
              "        text-align: right;\n",
              "    }\n",
              "</style>\n",
              "<table border=\"1\" class=\"dataframe\">\n",
              "  <thead>\n",
              "    <tr style=\"text-align: right;\">\n",
              "      <th></th>\n",
              "      <th>Time</th>\n",
              "      <th>Athlete</th>\n",
              "      <th>Nationality</th>\n",
              "      <th>Date</th>\n",
              "      <th>Venue</th>\n",
              "      <th>TIme_seconds</th>\n",
              "    </tr>\n",
              "  </thead>\n",
              "  <tbody>\n",
              "    <tr>\n",
              "      <th>0</th>\n",
              "      <td>4:14.4</td>\n",
              "      <td>John Paul Jones</td>\n",
              "      <td>United States</td>\n",
              "      <td>31 May 1913</td>\n",
              "      <td>Allston, Mass.</td>\n",
              "      <td>254.4</td>\n",
              "    </tr>\n",
              "    <tr>\n",
              "      <th>1</th>\n",
              "      <td>4:12.6</td>\n",
              "      <td>Norman Taber</td>\n",
              "      <td>United States</td>\n",
              "      <td>16 July 1915</td>\n",
              "      <td>Allston, Mass.</td>\n",
              "      <td>252.6</td>\n",
              "    </tr>\n",
              "    <tr>\n",
              "      <th>2</th>\n",
              "      <td>4:10.4</td>\n",
              "      <td>Paavo Nurmi</td>\n",
              "      <td>Finland</td>\n",
              "      <td>23 August 1923</td>\n",
              "      <td>Stockholm</td>\n",
              "      <td>250.4</td>\n",
              "    </tr>\n",
              "    <tr>\n",
              "      <th>3</th>\n",
              "      <td>4:09.2</td>\n",
              "      <td>Jules Ladoumègue</td>\n",
              "      <td>France</td>\n",
              "      <td>4 October 1931</td>\n",
              "      <td>Paris</td>\n",
              "      <td>249.2</td>\n",
              "    </tr>\n",
              "    <tr>\n",
              "      <th>4</th>\n",
              "      <td>4:07.6</td>\n",
              "      <td>Jack Lovelock</td>\n",
              "      <td>New Zealand</td>\n",
              "      <td>15 July 1933</td>\n",
              "      <td>Princeton, N.J.</td>\n",
              "      <td>247.6</td>\n",
              "    </tr>\n",
              "  </tbody>\n",
              "</table>\n",
              "</div>"
            ],
            "text/plain": [
              "     Time           Athlete    Nationality            Date            Venue  \\\n",
              "0  4:14.4   John Paul Jones  United States     31 May 1913   Allston, Mass.   \n",
              "1  4:12.6      Norman Taber  United States    16 July 1915   Allston, Mass.   \n",
              "2  4:10.4       Paavo Nurmi        Finland  23 August 1923        Stockholm   \n",
              "3  4:09.2  Jules Ladoumègue         France  4 October 1931            Paris   \n",
              "4  4:07.6     Jack Lovelock    New Zealand    15 July 1933  Princeton, N.J.   \n",
              "\n",
              "   TIme_seconds  \n",
              "0         254.4  \n",
              "1         252.6  \n",
              "2         250.4  \n",
              "3         249.2  \n",
              "4         247.6  "
            ]
          },
          "execution_count": 12,
          "metadata": {},
          "output_type": "execute_result"
        }
      ],
      "source": [
        "data['TIme_seconds'] = data['Time'].apply(lambda x: float(x.split(':')[0])*60+float(x.split(':')[1])) # Convert the time column into total seconds\n",
        "data.head()"
      ]
    },
    {
      "cell_type": "markdown",
      "metadata": {},
      "source": [
        "# Hard:"
      ]
    },
    {
      "cell_type": "code",
      "execution_count": 13,
      "metadata": {},
      "outputs": [
        {
          "data": {
            "text/html": [
              "<div>\n",
              "<style scoped>\n",
              "    .dataframe tbody tr th:only-of-type {\n",
              "        vertical-align: middle;\n",
              "    }\n",
              "\n",
              "    .dataframe tbody tr th {\n",
              "        vertical-align: top;\n",
              "    }\n",
              "\n",
              "    .dataframe thead th {\n",
              "        text-align: right;\n",
              "    }\n",
              "</style>\n",
              "<table border=\"1\" class=\"dataframe\">\n",
              "  <thead>\n",
              "    <tr style=\"text-align: right;\">\n",
              "      <th></th>\n",
              "      <th>Time</th>\n",
              "      <th>Athlete</th>\n",
              "      <th>Nationality</th>\n",
              "      <th>Date</th>\n",
              "      <th>Venue</th>\n",
              "      <th>TIme_seconds</th>\n",
              "    </tr>\n",
              "  </thead>\n",
              "  <tbody>\n",
              "    <tr>\n",
              "      <th>0</th>\n",
              "      <td>4:14.4</td>\n",
              "      <td>John Paul Jones</td>\n",
              "      <td>United States</td>\n",
              "      <td>1913-05-31</td>\n",
              "      <td>Allston, Mass.</td>\n",
              "      <td>254.4</td>\n",
              "    </tr>\n",
              "    <tr>\n",
              "      <th>1</th>\n",
              "      <td>4:12.6</td>\n",
              "      <td>Norman Taber</td>\n",
              "      <td>United States</td>\n",
              "      <td>1915-07-16</td>\n",
              "      <td>Allston, Mass.</td>\n",
              "      <td>252.6</td>\n",
              "    </tr>\n",
              "    <tr>\n",
              "      <th>2</th>\n",
              "      <td>4:10.4</td>\n",
              "      <td>Paavo Nurmi</td>\n",
              "      <td>Finland</td>\n",
              "      <td>1923-08-23</td>\n",
              "      <td>Stockholm</td>\n",
              "      <td>250.4</td>\n",
              "    </tr>\n",
              "    <tr>\n",
              "      <th>3</th>\n",
              "      <td>4:09.2</td>\n",
              "      <td>Jules Ladoumègue</td>\n",
              "      <td>France</td>\n",
              "      <td>1931-10-04</td>\n",
              "      <td>Paris</td>\n",
              "      <td>249.2</td>\n",
              "    </tr>\n",
              "    <tr>\n",
              "      <th>4</th>\n",
              "      <td>4:07.6</td>\n",
              "      <td>Jack Lovelock</td>\n",
              "      <td>New Zealand</td>\n",
              "      <td>1933-07-15</td>\n",
              "      <td>Princeton, N.J.</td>\n",
              "      <td>247.6</td>\n",
              "    </tr>\n",
              "  </tbody>\n",
              "</table>\n",
              "</div>"
            ],
            "text/plain": [
              "     Time           Athlete    Nationality       Date            Venue  \\\n",
              "0  4:14.4   John Paul Jones  United States 1913-05-31   Allston, Mass.   \n",
              "1  4:12.6      Norman Taber  United States 1915-07-16   Allston, Mass.   \n",
              "2  4:10.4       Paavo Nurmi        Finland 1923-08-23        Stockholm   \n",
              "3  4:09.2  Jules Ladoumègue         France 1931-10-04            Paris   \n",
              "4  4:07.6     Jack Lovelock    New Zealand 1933-07-15  Princeton, N.J.   \n",
              "\n",
              "   TIme_seconds  \n",
              "0         254.4  \n",
              "1         252.6  \n",
              "2         250.4  \n",
              "3         249.2  \n",
              "4         247.6  "
            ]
          },
          "execution_count": 13,
          "metadata": {},
          "output_type": "execute_result"
        }
      ],
      "source": [
        "data['Date'] = pd.to_datetime(data['Date']) # Convert the date column to the datetime type\n",
        "data.head()"
      ]
    },
    {
      "cell_type": "code",
      "execution_count": 14,
      "metadata": {},
      "outputs": [
        {
          "data": {
            "text/plain": [
              "United Kingdom    6\n",
              "United States     4\n",
              "New Zealand       3\n",
              "France            2\n",
              "Sweden            2\n",
              "Australia         2\n",
              "Finland           1\n",
              "Tanzania          1\n",
              "Algeria           1\n",
              "Morocco           1\n",
              "Name: Nationality, dtype: int64"
            ]
          },
          "execution_count": 14,
          "metadata": {},
          "output_type": "execute_result"
        }
      ],
      "source": [
        "diff_record_holders = data.drop_duplicates(subset=['Athlete'])\n",
        "diff_record_holders['Nationality'].value_counts().sort_values(ascending=False) # What country has the most DIFFERENT record holders?\n"
      ]
    },
    {
      "cell_type": "markdown",
      "metadata": {},
      "source": [
        "# Extra credit:"
      ]
    },
    {
      "cell_type": "code",
      "execution_count": 68,
      "metadata": {},
      "outputs": [
        {
          "data": {
            "text/plain": [
              "<matplotlib.legend.Legend at 0x16f59fbcfd0>"
            ]
          },
          "execution_count": 68,
          "metadata": {},
          "output_type": "execute_result"
        },
        {
          "data": {
            "image/png": "[encoded data removed]",
            "text/plain": [
              "<Figure size 1080x720 with 1 Axes>"
            ]
          },
          "metadata": {
            "needs_background": "light"
          },
          "output_type": "display_data"
        }
      ],
      "source": [
        "fig, ax = plt.subplots()\n",
        "data.plot.line(3,5, ax=ax, figsize=(15, 10))\n",
        "ax.legend(['Time in seconds'])"
      ]
    },
    {
      "cell_type": "markdown",
      "metadata": {
        "id": "WFiT-zx2JQDU"
      },
      "source": [
        "## Tasks:"
      ]
    },
    {
      "cell_type": "markdown",
      "metadata": {
        "id": "PgMOXXiYuVa5"
      },
      "source": [
        "### [Easy: Data Cleaning](#easy)\n",
        "\n",
        "[1.1](#1.1)\n",
        "* Clean the asterisks from the time column?\n",
        "\n",
        "*hint - look for pandas string methods to replace a character or characters*\n",
        "\n",
        "[1.2](#1.2)\n",
        "* Remove meaningless columns? \n",
        "\n",
        "*hint - do we have a column with lots of missing values, how to drop a column in pandas*\n",
        "\n",
        "[1.3](#1.3)\n",
        "* Clean the date column of \"[5]\"\n",
        "\n",
        "*pandas string methods to replace characters*\n",
        "\n",
        "\n"
      ]
    },
    {
      "cell_type": "markdown",
      "metadata": {
        "id": "GNwczzNQJQDe"
      },
      "source": [
        "### [Medium: Calculation and Aggregation](#medium)\n",
        "\n",
        "[2.1](#2.1) \n",
        "* How many *unique* WR holders have there been? Who holds the most records?\n",
        "\n",
        "*hint - pandas unique items in a column, value counts*\n",
        "\n",
        "\n",
        "[2.2](#2.2) \n",
        "* Convert the time column into total seconds.\n",
        "\n",
        "*hint - split a string, how to convert minutes to seconds and add*\n",
        "\n",
        "\n"
      ]
    },
    {
      "cell_type": "markdown",
      "metadata": {
        "id": "-YZg1FMNJQDh"
      },
      "source": [
        "### [Hard:](#hard)\n",
        "\n",
        "[3.1](#3.1) \n",
        "* Convert the date column to the datetime type.\n",
        "\n",
        "*hint - pandas datetime method*\n",
        "\n",
        "\n",
        "[3.2](#3.2) \n",
        "* What country has the most DIFFERENT record holders?\n",
        "\n",
        "*hint - pandas group by, unique*\n",
        "\n"
      ]
    },
    {
      "cell_type": "markdown",
      "metadata": {
        "id": "W06D3AByJQDk"
      },
      "source": [
        "## [Extra credit:](#ec)\n",
        "\n",
        "[4.1](#4.1)\n",
        "* Visualize a line plot of Date (on the x axis) and Time (on the y axis) to show the historical change in WR times.\n",
        "\n",
        "*hint - pandas line plot*"
      ]
    }
  ],
  "metadata": {
    "colab": {
      "collapsed_sections": [],
      "name": "mens_mile_WR_example_project.ipynb",
      "provenance": []
    },
    "kernelspec": {
      "display_name": "Python 3.10.4 64-bit",
      "language": "python",
      "name": "python3"
    },
    "language_info": {
      "codemirror_mode": {
        "name": "ipython",
        "version": 3
      },
      "file_extension": ".py",
      "mimetype": "text/x-python",
      "name": "python",
      "nbconvert_exporter": "python",
      "pygments_lexer": "ipython3",
      "version": "3.10.4"
    },
    "vscode": {
      "interpreter": {
        "hash": "21d44e44f2640ec32460b5c0d91b6b01175996a3ad3a315ed984dc353c20d31f"
      }
    }
  },
  "nbformat": 4,
  "nbformat_minor": 0
}
